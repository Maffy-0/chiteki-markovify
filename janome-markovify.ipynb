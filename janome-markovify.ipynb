{
 "cells": [
  {
   "cell_type": "code",
   "execution_count": 14,
   "metadata": {},
   "outputs": [
    {
     "name": "stdout",
     "output_type": "stream",
     "text": [
      "Collecting janome\n",
      "  Downloading Janome-0.4.2-py2.py3-none-any.whl (19.7 MB)\n",
      "     ---------------------------------------- 19.7/19.7 MB 1.9 MB/s eta 0:00:00\n",
      "Installing collected packages: janome\n",
      "Successfully installed janome-0.4.2\n",
      "Note: you may need to restart the kernel to use updated packages.\n"
     ]
    }
   ],
   "source": [
    "%pip install janome"
   ]
  },
  {
   "cell_type": "code",
   "execution_count": 22,
   "metadata": {},
   "outputs": [
    {
     "name": "stdout",
     "output_type": "stream",
     "text": [
      "またやり直せばいいかな拝啓わかってるけど歯がゆいから傷が疼くんだよ\n",
      "繰り返せRUNRUNRUNRUNRUNRUNRUNRUN継続です不確か\n",
      "ずっとあるこの手に取る瞬間にときめけよbabyせーの\n",
      "躊躇も無くて朝になったってすれ違うことはない\n",
      "PleasegivemePleasegivemeヘンなんですIwanttochangeぐらいなら\n",
      "投げた大空にきっとそうだ誰かの都合もあるけど\n",
      "世界中を驚かせてもしも明後日\n",
      "僕が選べばそれが全てを見せてほら\n",
      "君が大人になったら大丈夫\n",
      "君を振り回すパスポート瀕死のセンスも気になっても僕は異常なしだなんて\n"
     ]
    }
   ],
   "source": [
    "import MeCab\n",
    "import markovify\n",
    "from janome.tokenizer import Tokenizer \n",
    "\n",
    "words_file = open('res.txt', 'r')\n",
    "text = words_file.read()\n",
    "\n",
    "# 単語を格納\n",
    "tt = Tokenizer()\n",
    "\n",
    "words = tt.tokenize(text, wakati = True)\n",
    "word_list = []\n",
    "for i in words:\n",
    "    word_list.append(i)\n",
    "\n",
    "words_string = ' '.join(word_list)\n",
    "\n",
    "t = markovify.NewlineText(words_string, state_size=2)\n",
    "\n",
    "for i in range(10):\n",
    "    sentence = t.make_sentence()\n",
    "    if sentence == None:\n",
    "        print('Failed')\n",
    "    else :\n",
    "        print(''.join(sentence.split()))"
   ]
  }
 ],
 "metadata": {
  "kernelspec": {
   "display_name": "sentan",
   "language": "python",
   "name": "python3"
  },
  "language_info": {
   "codemirror_mode": {
    "name": "ipython",
    "version": 3
   },
   "file_extension": ".py",
   "mimetype": "text/x-python",
   "name": "python",
   "nbconvert_exporter": "python",
   "pygments_lexer": "ipython3",
   "version": "3.9.13 (main, Oct 13 2022, 21:23:06) [MSC v.1916 64 bit (AMD64)]"
  },
  "orig_nbformat": 4,
  "vscode": {
   "interpreter": {
    "hash": "cfdcc51818aef71ccec9358460ad73a0f4868619b051b393a4aa37e1eac5eb7a"
   }
  }
 },
 "nbformat": 4,
 "nbformat_minor": 2
}
